{
 "cells": [
  {
   "cell_type": "markdown",
   "metadata": {},
   "source": [
    "# Libraries import\n",
    "\n",
    "Importing basic libraries for the code execution."
   ]
  },
  {
   "cell_type": "code",
   "execution_count": 1,
   "metadata": {},
   "outputs": [],
   "source": [
    "import time"
   ]
  },
  {
   "cell_type": "markdown",
   "metadata": {},
   "source": [
    "# Sudoku class\n",
    "\n",
    "A fundamental class, which is in principle an array with an aditional feature to work quickly with the inner squares."
   ]
  },
  {
   "cell_type": "code",
   "execution_count": 2,
   "metadata": {},
   "outputs": [],
   "source": [
    "class Sudoku():\n",
    "    # First index is row, second is collumn, starting from zero\n",
    "    def __init__(self, array):\n",
    "        self.table = array\n",
    "        # create a list of collumns\n",
    "        self.collumns = []\n",
    "        for a in range(9):\n",
    "            self.collumns.append([val[a] for val in self.table])\n",
    "        # create a list of inner squares\n",
    "        self.squares = []\n",
    "        # every element in the square list consists of elements in a suqare, counted in the reading order, i.e. square[0] is tope left square, square[1] is top middle square etc.\n",
    "        for a in range(9):\n",
    "            # create an empty square at first\n",
    "            temp_square = []\n",
    "            # add all 3x3 elements of the square, based on its position a.\n",
    "            for b in range(3):\n",
    "                for c in range(3):\n",
    "                    # only unique, non-zero values are recorded in the square to avoid repetition\n",
    "                    if self.table[(a // 3)*3 + b][(a % 3)*3 + c] != 0 and self.table[(a // 3)*3 + b][(a % 3)*3 + c] not in temp_square:\n",
    "                        temp_square.append(self.table[(a // 3)*3 + b][(a % 3)*3 + c])\n",
    "            #print('Square created:', temp_square)\n",
    "            self.squares.append(temp_square)\n",
    "    \n",
    "    def __repr__(self):\n",
    "        # Creating a string representation of the whole sudoku\n",
    "        print_string = ''\n",
    "        # Two FOR loops which go through all elements of the sudoku table and making them into a string, with lines to make it easier to visualise the table\n",
    "        for a in range(9):\n",
    "            for b in range(9):\n",
    "                print_string = print_string+str(self.table[a][b])\n",
    "                # Adding a vertical line to create inside squares\n",
    "                if b % 3 == 2:\n",
    "                    print_string = print_string+'|'\n",
    "            print_string = print_string+'\\n'\n",
    "            # adding vertical line to create inside squares\n",
    "            if a % 3 == 2:\n",
    "                print_string = print_string+'------------\\n'\n",
    "        # Returning the final string\n",
    "        return str(print_string)\n",
    "    \n",
    "    # Method for allocating a new number in a sudoku\n",
    "    def allocate_number(self, row, collumn, number):\n",
    "        # Add a number to the sudoku table, which will take care of the row as well.\n",
    "        self.table[row][collumn] = number\n",
    "        # Add the number to the appropriate collumn\n",
    "        self.collumns[collumn][row] = number\n",
    "        # Add the number to the appropriate square\n",
    "        self.squares[(row // 3)*3 + collumn // 3].append(number)\n",
    "    \n",
    "    # Method for removing a number allocated from sudoku.\n",
    "    def remove_number(self, row, collumn, number):\n",
    "        # Remove the number from the sudoku table, i.e. set it to zero\n",
    "        self.table[row][collumn] = 0\n",
    "        # Remove the number from the appropriate collumn\n",
    "        self.collumns[collumn][row] = 0\n",
    "        # Remove the number from the appropriate square\n",
    "        self.squares[(row // 3)*3 + collumn // 3].remove(number)\n",
    "        \n",
    "    "
   ]
  },
  {
   "cell_type": "markdown",
   "metadata": {},
   "source": [
    "# Leaf class\n",
    "\n",
    "It is a class which will be holding possible allocations to each cell of sudoku, with additional methods to allow for the execution of branch & bound algorythm."
   ]
  },
  {
   "cell_type": "code",
   "execution_count": 3,
   "metadata": {},
   "outputs": [],
   "source": [
    "class Leaf():\n",
    "    # Defining the leaf, which has a position in sudoku, defined by the row and collumn, and the possible allocations\n",
    "    def __init__(self, row, collumn, possible_allocations):\n",
    "        self.position = [row, collumn]\n",
    "        self.possible_allocations = possible_allocations\n",
    "    \n",
    "    def __repr__(self):\n",
    "        return 'Position: '+str(self.position)+'\\n'+'Possible allocations: '+str(self.possible_allocations)+'\\n'\n",
    "    \n",
    "    # a recursive method which will execute the branch and bound algorythm\n",
    "    def branch_and_bound(self, sudoku, leaf_list, leaf_list_position, finished):\n",
    "        # Finish the algorythm if the leaf_list_position is larger than the leaf_list length- the sudoku is finished\n",
    "        #if leaf_list_position == len(leaf_list):\n",
    "            #return\n",
    "        #print('current leaf:', self)\n",
    "        #print('position in the leaf_list:', leaf_list_position)\n",
    "        # Go through each possible number allocation to a given cell\n",
    "        for number in self.possible_allocations:\n",
    "            #print('Currently tested number:', number)\n",
    "            # If the tested number is acceptable...\n",
    "            if acceptance_test(sudoku, self.position[0], self.position[1], number) == True:\n",
    "                # ... Make this allocation to the sudoku\n",
    "                sudoku.allocate_number(self.position[0], self.position[1], number)\n",
    "                #print('number', number, 'accepted')\n",
    "                #print(sudoku)\n",
    "                # Finish the algorythm if the leaf_list_position is larger than the leaf_list length- the sudoku is finished\n",
    "                if leaf_list_position+1 == len(leaf_list):\n",
    "                    #print('return activated')\n",
    "                    return True               \n",
    "                # Call the branch and bound algorythm of the next leaf\n",
    "                finished = leaf_list[leaf_list_position+1].branch_and_bound(sudoku, leaf_list, leaf_list_position+1, finished)\n",
    "                if finished == True:\n",
    "                    #print('return activated')\n",
    "                    return True\n",
    "                # If this code is executed, this means that there were no acceptable allocations in the current leaf, so the current allocation here needs to be removed\n",
    "                sudoku.remove_number(self.position[0], self.position[1], number)\n",
    "                #print(sudoku)\n",
    "            #print('number', number, 'rejected')\n",
    "        #print('no acceptable allocations, retuning to the previous leaf')\n",
    "        return False\n",
    "        # If there are no legal allocations, that means that an error was made previously, decrease the leaf_list_position and finish this instance of branch and bound, which will go back to the previous leaf\n",
    "                "
   ]
  },
  {
   "cell_type": "markdown",
   "metadata": {},
   "source": [
    "# Acceptance test function\n",
    "\n",
    "It tests if a particular position in a particular sudoku can take a particular value."
   ]
  },
  {
   "cell_type": "code",
   "execution_count": 4,
   "metadata": {},
   "outputs": [],
   "source": [
    "def acceptance_test(used_sudoku, row, collumn, tested_number):\n",
    "    # Variable decribing if the tested number can be accepted for the tested position.\n",
    "    accept = True\n",
    "    # Check if the tested number is in the row and change the acceptance accordingly.\n",
    "    if tested_number in used_sudoku.table[row][:]:\n",
    "        accept = False # print('Tested number already in the row')\n",
    "    # Check if the tested number is in the collumn\n",
    "    if tested_number in used_sudoku.collumns[collumn]:\n",
    "        accept = False # print('Tested number already in the collumn')\n",
    "    # Check if the tested number is in the square\n",
    "    if tested_number in used_sudoku.squares[(row // 3) * 3 + collumn // 3]:\n",
    "        accept = False # print('Tested number already in the square')\n",
    "    return accept"
   ]
  },
  {
   "cell_type": "markdown",
   "metadata": {},
   "source": [
    "# Possible number allocation function\n",
    "\n",
    "It just takes the acceptance_test function, runs it 9 times over all possible digits and returns the possible numbers allocations."
   ]
  },
  {
   "cell_type": "code",
   "execution_count": 5,
   "metadata": {},
   "outputs": [],
   "source": [
    "def possible_numbers_allocation(used_sudoku, row, collumn):\n",
    "    # creating a list of possible numbers in given position\n",
    "    possible_numbers = []\n",
    "    # run the acceptance test 9 times, and when it returns TRUE, record the number\n",
    "    for a in range(1,10):\n",
    "        #print(a)\n",
    "        temp_acceptance = acceptance_test(used_sudoku, row, collumn, a)\n",
    "        #print(temp_acceptance)\n",
    "        if temp_acceptance == True:\n",
    "            possible_numbers.append(a)\n",
    "            #print('current list:', possible_numbers)\n",
    "    # return the list of all possible numbers\n",
    "    return possible_numbers"
   ]
  },
  {
   "cell_type": "markdown",
   "metadata": {},
   "source": [
    "# Initial leafs creation function\n",
    "\n",
    "This function uses possible_number_allocation_function to run over all positions, and when they have zeros on them (i.e. have no allocation yet), it test what can go there. It returns a list of leafs, ordered according to the number of possible allocations."
   ]
  },
  {
   "cell_type": "code",
   "execution_count": 6,
   "metadata": {},
   "outputs": [],
   "source": [
    "def intial_leafs_creation(used_sudoku):\n",
    "    # create an empty list, for all leafs\n",
    "    leaf_list = []\n",
    "    # go through all cells in the sudoku, when they are marked as zero, run possible_number allocation to create a leaf for this position in sudoku\n",
    "    for a in range(9):\n",
    "        for b in range(9):\n",
    "            if used_sudoku.table[a][b] == 0:\n",
    "                leaf_list.append(Leaf(a,b,possible_numbers_allocation(used_sudoku,a,b)))\n",
    "    # SORT THE LIST\n",
    "    leaf_list.sort(key=lambda x: len(x.possible_allocations))\n",
    "    # Return the sorted list of leafs\n",
    "    return leaf_list\n",
    "    "
   ]
  },
  {
   "cell_type": "markdown",
   "metadata": {},
   "source": [
    "# Sudoku input and solution"
   ]
  },
  {
   "cell_type": "code",
   "execution_count": 16,
   "metadata": {},
   "outputs": [
    {
     "name": "stdout",
     "output_type": "stream",
     "text": [
      "Starting Sudoku:\n",
      "200|085|004|\n",
      "000|703|090|\n",
      "000|400|008|\n",
      "------------\n",
      "000|000|240|\n",
      "500|000|001|\n",
      "027|000|000|\n",
      "------------\n",
      "460|002|000|\n",
      "010|679|000|\n",
      "300|540|009|\n",
      "------------\n",
      "\n",
      "Solved Sudoku:\n",
      "293|185|764|\n",
      "648|723|195|\n",
      "751|496|328|\n",
      "------------\n",
      "186|957|243|\n",
      "534|268|971|\n",
      "927|314|856|\n",
      "------------\n",
      "469|832|517|\n",
      "815|679|432|\n",
      "372|541|689|\n",
      "------------\n",
      "\n",
      "Running time: 0.038884878158569336\n"
     ]
    }
   ],
   "source": [
    "test_sudoku = Sudoku([[2,0,0,0,8,5,0,0,4],\n",
    "                      [0,0,0,7,0,3,0,9,0],\n",
    "                      [0,0,0,4,0,0,0,0,8],\n",
    "                      [0,0,0,0,0,0,2,4,0],\n",
    "                      [5,0,0,0,0,0,0,0,1],\n",
    "                      [0,2,7,0,0,0,0,0,0],\n",
    "                      [4,6,0,0,0,2,0,0,0],\n",
    "                      [0,1,0,6,7,9,0,0,0],\n",
    "                      [3,0,0,5,4,0,0,0,9]])\n",
    "print('Starting Sudoku:')\n",
    "print(test_sudoku)\n",
    "test_leaf_list = intial_leafs_creation(test_sudoku)\n",
    "#print('Length of the leaf list:', len(test_leaf_list))\n",
    "# Variable for defining on which leaf on the leaf list we are\n",
    "leaf_list_position = 0\n",
    "start = time.time()\n",
    "# Starting the recursive branch and bound leaf method\n",
    "solved = test_leaf_list[leaf_list_position].branch_and_bound(test_sudoku, test_leaf_list, leaf_list_position, False)\n",
    "end = time.time()\n",
    "# show the results if the sudoku has a solution\n",
    "if solved == True:    \n",
    "    print('Solved Sudoku:')\n",
    "    print(test_sudoku)\n",
    "else:\n",
    "    print('Sudoku has no solution')\n",
    "# printing the final run time\n",
    "run_time = end - start\n",
    "print('Running time:', run_time)"
   ]
  }
 ],
 "metadata": {
  "kernelspec": {
   "display_name": "Python [conda env:.conda-scientific] *",
   "language": "python",
   "name": "conda-env-.conda-scientific-py"
  },
  "language_info": {
   "codemirror_mode": {
    "name": "ipython",
    "version": 3
   },
   "file_extension": ".py",
   "mimetype": "text/x-python",
   "name": "python",
   "nbconvert_exporter": "python",
   "pygments_lexer": "ipython3",
   "version": "3.7.4"
  }
 },
 "nbformat": 4,
 "nbformat_minor": 2
}
